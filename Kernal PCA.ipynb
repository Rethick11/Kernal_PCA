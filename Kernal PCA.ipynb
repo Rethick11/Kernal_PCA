{
 "cells": [
  {
   "cell_type": "code",
   "execution_count": 59,
   "metadata": {},
   "outputs": [],
   "source": [
    "from scipy.spatial.distance import pdist, squareform\n",
    "from scipy import exp\n",
    "from scipy.linalg import eigh\n",
    "import numpy as np\n",
    "import pandas as pd\n",
    "import matplotlib.pyplot as plt"
   ]
  },
  {
   "cell_type": "markdown",
   "metadata": {},
   "source": [
    "# Examples for some scipy functions"
   ]
  },
  {
   "cell_type": "code",
   "execution_count": 10,
   "metadata": {},
   "outputs": [],
   "source": [
    "X = np.array([[1,2,3] , [4,5,6], [9,8,6] ,[2,6,1]])"
   ]
  },
  {
   "cell_type": "code",
   "execution_count": 11,
   "metadata": {},
   "outputs": [
    {
     "data": {
      "text/plain": [
       "array([[1, 2, 3],\n",
       "       [4, 5, 6],\n",
       "       [9, 8, 6],\n",
       "       [2, 6, 1]])"
      ]
     },
     "execution_count": 11,
     "metadata": {},
     "output_type": "execute_result"
    }
   ],
   "source": [
    "X"
   ]
  },
  {
   "cell_type": "code",
   "execution_count": 12,
   "metadata": {},
   "outputs": [],
   "source": [
    "equi_dist = pdist(X, 'sqeuclidean') #calculates the sum of square distances for each sample , example:\n",
    "                                    #(sqrt(1-2)+sqrt(2-4)+sqrt(3-6)) \n",
    "                                    #for X[0] and X[1]"
   ]
  },
  {
   "cell_type": "code",
   "execution_count": 13,
   "metadata": {},
   "outputs": [
    {
     "data": {
      "text/plain": [
       "array([ 27., 109.,  21.,  34.,  30.,  78.])"
      ]
     },
     "execution_count": 13,
     "metadata": {},
     "output_type": "execute_result"
    }
   ],
   "source": [
    "equi_dist"
   ]
  },
  {
   "cell_type": "code",
   "execution_count": 16,
   "metadata": {},
   "outputs": [
    {
     "data": {
      "text/plain": [
       "array([[  0.,  27., 109.,  21.],\n",
       "       [ 27.,   0.,  34.,  30.],\n",
       "       [109.,  34.,   0.,  78.],\n",
       "       [ 21.,  30.,  78.,   0.]])"
      ]
     },
     "execution_count": 16,
     "metadata": {},
     "output_type": "execute_result"
    }
   ],
   "source": [
    "A = squareform(equi_dist)\n",
    "A"
   ]
  },
  {
   "cell_type": "code",
   "execution_count": 21,
   "metadata": {},
   "outputs": [
    {
     "name": "stdout",
     "output_type": "stream",
     "text": [
      "27.0 109.0 21.0 34.0 30.0 78.0\n"
     ]
    }
   ],
   "source": [
    "print(A[0,1],A[0,2],A[0,3],A[1,2],A[1,3],A[2,3]) #square because of accessing the distance between the vectors"
   ]
  },
  {
   "cell_type": "code",
   "execution_count": null,
   "metadata": {},
   "outputs": [],
   "source": []
  },
  {
   "cell_type": "markdown",
   "metadata": {},
   "source": [
    "# RBF Kernal "
   ]
  },
  {
   "cell_type": "code",
   "execution_count": 23,
   "metadata": {},
   "outputs": [],
   "source": [
    "from sklearn.datasets import make_moons\n",
    "X_,Y_= make_moons(n_samples=100,random_state=47)"
   ]
  },
  {
   "cell_type": "code",
   "execution_count": 25,
   "metadata": {},
   "outputs": [
    {
     "data": {
      "text/plain": [
       "array([[ 0.46253829,  0.88659931],\n",
       "       [ 1.8380881 , -0.0455349 ],\n",
       "       [ 1.94905575,  0.18489178],\n",
       "       [ 1.67230089, -0.240278  ],\n",
       "       [ 0.32769911, -0.240278  ],\n",
       "       [ 0.94905575,  0.31510822],\n",
       "       [-0.76144596,  0.6482284 ],\n",
       "       [ 0.6234898 ,  0.78183148],\n",
       "       [-0.8380881 ,  0.5455349 ],\n",
       "       [-0.99179001,  0.12787716]])"
      ]
     },
     "execution_count": 25,
     "metadata": {},
     "output_type": "execute_result"
    }
   ],
   "source": [
    "X_[:10]"
   ]
  },
  {
   "cell_type": "code",
   "execution_count": 27,
   "metadata": {},
   "outputs": [
    {
     "data": {
      "text/plain": [
       "array([0, 1, 1, 1, 1, 0, 0, 0, 0, 0, 1, 0, 1, 1, 1, 1, 0, 1, 1, 0, 1, 0,\n",
       "       1, 0, 1, 0, 1, 0, 0, 0, 1, 0, 0, 0, 0, 0, 1, 1, 1, 1, 1, 1, 0, 1,\n",
       "       0, 0, 0, 0, 1, 0, 0, 0, 0, 0, 1, 0, 1, 0, 1, 1, 1, 0, 1, 0, 0, 0,\n",
       "       0, 0, 0, 1, 0, 1, 0, 0, 1, 1, 0, 1, 0, 1, 1, 0, 1, 1, 1, 1, 1, 0,\n",
       "       1, 1, 1, 1, 0, 1, 1, 1, 0, 1, 0, 0], dtype=int64)"
      ]
     },
     "execution_count": 27,
     "metadata": {},
     "output_type": "execute_result"
    }
   ],
   "source": [
    "Y_"
   ]
  },
  {
   "cell_type": "code",
   "execution_count": 124,
   "metadata": {},
   "outputs": [
    {
     "data": {
      "text/plain": [
       "Text(0.5, 1.0, 'normal moons data')"
      ]
     },
     "execution_count": 124,
     "metadata": {},
     "output_type": "execute_result"
    },
    {
     "data": {
      "image/png": "[encoded data removed]",
      "text/plain": [
       "<Figure size 432x288 with 1 Axes>"
      ]
     },
     "metadata": {
      "needs_background": "light"
     },
     "output_type": "display_data"
    }
   ],
   "source": [
    "plt.scatter(X_[Y_==0,0],X_[Y_==0,1])\n",
    "plt.scatter(X_[Y_==1,0],X_[Y_==1,1])\n",
    "plt.title(\"normal moons data\")"
   ]
  },
  {
   "cell_type": "code",
   "execution_count": 49,
   "metadata": {},
   "outputs": [],
   "source": [
    "#step 1 - finding the distances\n",
    "sq_dist = pdist(X_,metric = 'sqeuclidean')"
   ]
  },
  {
   "cell_type": "code",
   "execution_count": 53,
   "metadata": {},
   "outputs": [
    {
     "data": {
      "text/plain": [
       "(100, 100)"
      ]
     },
     "execution_count": 53,
     "metadata": {},
     "output_type": "execute_result"
    }
   ],
   "source": [
    "#step2 - calculating the square form\n",
    "K = squareform(sq_dist)\n",
    "K.shape"
   ]
  },
  {
   "cell_type": "code",
   "execution_count": 114,
   "metadata": {},
   "outputs": [],
   "source": [
    "gamma = 15\n",
    "RBF_mat = np.exp(-gamma*K) "
   ]
  },
  {
   "cell_type": "code",
   "execution_count": 115,
   "metadata": {},
   "outputs": [
    {
     "data": {
      "text/html": [
       "<div>\n",
       "<style scoped>\n",
       "    .dataframe tbody tr th:only-of-type {\n",
       "        vertical-align: middle;\n",
       "    }\n",
       "\n",
       "    .dataframe tbody tr th {\n",
       "        vertical-align: top;\n",
       "    }\n",
       "\n",
       "    .dataframe thead th {\n",
       "        text-align: right;\n",
       "    }\n",
       "</style>\n",
       "<table border=\"1\" class=\"dataframe\">\n",
       "  <thead>\n",
       "    <tr style=\"text-align: right;\">\n",
       "      <th></th>\n",
       "      <th>0</th>\n",
       "      <th>1</th>\n",
       "      <th>2</th>\n",
       "      <th>3</th>\n",
       "      <th>4</th>\n",
       "      <th>5</th>\n",
       "      <th>6</th>\n",
       "      <th>7</th>\n",
       "      <th>8</th>\n",
       "      <th>9</th>\n",
       "      <th>...</th>\n",
       "      <th>90</th>\n",
       "      <th>91</th>\n",
       "      <th>92</th>\n",
       "      <th>93</th>\n",
       "      <th>94</th>\n",
       "      <th>95</th>\n",
       "      <th>96</th>\n",
       "      <th>97</th>\n",
       "      <th>98</th>\n",
       "      <th>99</th>\n",
       "    </tr>\n",
       "  </thead>\n",
       "  <tbody>\n",
       "    <tr>\n",
       "      <th>0</th>\n",
       "      <td>1.000000e+00</td>\n",
       "      <td>1.031856e-18</td>\n",
       "      <td>2.495821e-18</td>\n",
       "      <td>1.561835e-18</td>\n",
       "      <td>4.066387e-09</td>\n",
       "      <td>2.140032e-04</td>\n",
       "      <td>7.419147e-11</td>\n",
       "      <td>5.750920e-01</td>\n",
       "      <td>1.668144e-12</td>\n",
       "      <td>2.961157e-18</td>\n",
       "      <td>...</td>\n",
       "      <td>1.775111e-18</td>\n",
       "      <td>5.636929e-07</td>\n",
       "      <td>1.116376e-01</td>\n",
       "      <td>3.053025e-17</td>\n",
       "      <td>1.974927e-03</td>\n",
       "      <td>5.961850e-14</td>\n",
       "      <td>7.770997e-03</td>\n",
       "      <td>1.895429e-13</td>\n",
       "      <td>7.796845e-04</td>\n",
       "      <td>2.586134e-03</td>\n",
       "    </tr>\n",
       "    <tr>\n",
       "      <th>1</th>\n",
       "      <td>1.031856e-18</td>\n",
       "      <td>1.000000e+00</td>\n",
       "      <td>3.748782e-01</td>\n",
       "      <td>3.748782e-01</td>\n",
       "      <td>7.794081e-16</td>\n",
       "      <td>1.008920e-06</td>\n",
       "      <td>6.964401e-48</td>\n",
       "      <td>8.516571e-15</td>\n",
       "      <td>1.170499e-49</td>\n",
       "      <td>4.317952e-53</td>\n",
       "      <td>...</td>\n",
       "      <td>5.750920e-01</td>\n",
       "      <td>4.980929e-19</td>\n",
       "      <td>1.484988e-27</td>\n",
       "      <td>2.586134e-03</td>\n",
       "      <td>3.385947e-24</td>\n",
       "      <td>1.758007e-08</td>\n",
       "      <td>1.091480e-08</td>\n",
       "      <td>2.957125e-09</td>\n",
       "      <td>2.741441e-07</td>\n",
       "      <td>6.050617e-08</td>\n",
       "    </tr>\n",
       "    <tr>\n",
       "      <th>2</th>\n",
       "      <td>2.495821e-18</td>\n",
       "      <td>3.748782e-01</td>\n",
       "      <td>1.000000e+00</td>\n",
       "      <td>2.105876e-02</td>\n",
       "      <td>4.980929e-19</td>\n",
       "      <td>2.372041e-07</td>\n",
       "      <td>5.511021e-50</td>\n",
       "      <td>1.706185e-14</td>\n",
       "      <td>3.528632e-52</td>\n",
       "      <td>4.349163e-57</td>\n",
       "      <td>...</td>\n",
       "      <td>9.402230e-01</td>\n",
       "      <td>7.044013e-22</td>\n",
       "      <td>2.249027e-27</td>\n",
       "      <td>1.243114e-05</td>\n",
       "      <td>7.843692e-26</td>\n",
       "      <td>1.123482e-11</td>\n",
       "      <td>6.669653e-09</td>\n",
       "      <td>1.668144e-12</td>\n",
       "      <td>9.074953e-08</td>\n",
       "      <td>2.755046e-08</td>\n",
       "    </tr>\n",
       "    <tr>\n",
       "      <th>3</th>\n",
       "      <td>1.561835e-18</td>\n",
       "      <td>3.748782e-01</td>\n",
       "      <td>2.105876e-02</td>\n",
       "      <td>1.000000e+00</td>\n",
       "      <td>1.668144e-12</td>\n",
       "      <td>3.828411e-06</td>\n",
       "      <td>1.868683e-44</td>\n",
       "      <td>1.067697e-14</td>\n",
       "      <td>8.377856e-46</td>\n",
       "      <td>7.616416e-48</td>\n",
       "      <td>...</td>\n",
       "      <td>5.125542e-02</td>\n",
       "      <td>7.794081e-16</td>\n",
       "      <td>7.369070e-27</td>\n",
       "      <td>1.116376e-01</td>\n",
       "      <td>7.044013e-22</td>\n",
       "      <td>1.243114e-05</td>\n",
       "      <td>2.185351e-08</td>\n",
       "      <td>2.661821e-06</td>\n",
       "      <td>8.171875e-07</td>\n",
       "      <td>1.457013e-07</td>\n",
       "    </tr>\n",
       "    <tr>\n",
       "      <th>4</th>\n",
       "      <td>4.066387e-09</td>\n",
       "      <td>7.794081e-16</td>\n",
       "      <td>4.980929e-19</td>\n",
       "      <td>1.668144e-12</td>\n",
       "      <td>1.000000e+00</td>\n",
       "      <td>2.988754e-05</td>\n",
       "      <td>1.347697e-13</td>\n",
       "      <td>4.210923e-08</td>\n",
       "      <td>1.330002e-13</td>\n",
       "      <td>5.958148e-13</td>\n",
       "      <td>...</td>\n",
       "      <td>2.961157e-18</td>\n",
       "      <td>3.748782e-01</td>\n",
       "      <td>5.056131e-11</td>\n",
       "      <td>9.942609e-08</td>\n",
       "      <td>2.140032e-04</td>\n",
       "      <td>7.770997e-03</td>\n",
       "      <td>3.924972e-06</td>\n",
       "      <td>2.105876e-02</td>\n",
       "      <td>1.558251e-05</td>\n",
       "      <td>7.913155e-06</td>\n",
       "    </tr>\n",
       "    <tr>\n",
       "      <th>...</th>\n",
       "      <td>...</td>\n",
       "      <td>...</td>\n",
       "      <td>...</td>\n",
       "      <td>...</td>\n",
       "      <td>...</td>\n",
       "      <td>...</td>\n",
       "      <td>...</td>\n",
       "      <td>...</td>\n",
       "      <td>...</td>\n",
       "      <td>...</td>\n",
       "      <td>...</td>\n",
       "      <td>...</td>\n",
       "      <td>...</td>\n",
       "      <td>...</td>\n",
       "      <td>...</td>\n",
       "      <td>...</td>\n",
       "      <td>...</td>\n",
       "      <td>...</td>\n",
       "      <td>...</td>\n",
       "      <td>...</td>\n",
       "      <td>...</td>\n",
       "    </tr>\n",
       "    <tr>\n",
       "      <th>95</th>\n",
       "      <td>5.961850e-14</td>\n",
       "      <td>1.758007e-08</td>\n",
       "      <td>1.123482e-11</td>\n",
       "      <td>1.243114e-05</td>\n",
       "      <td>7.770997e-03</td>\n",
       "      <td>5.369829e-05</td>\n",
       "      <td>7.699891e-26</td>\n",
       "      <td>1.594826e-11</td>\n",
       "      <td>5.001891e-26</td>\n",
       "      <td>4.647620e-25</td>\n",
       "      <td>...</td>\n",
       "      <td>7.419147e-11</td>\n",
       "      <td>5.376041e-05</td>\n",
       "      <td>1.179713e-18</td>\n",
       "      <td>2.105876e-02</td>\n",
       "      <td>7.419147e-11</td>\n",
       "      <td>1.000000e+00</td>\n",
       "      <td>5.809239e-07</td>\n",
       "      <td>9.402230e-01</td>\n",
       "      <td>1.275553e-05</td>\n",
       "      <td>2.815265e-06</td>\n",
       "    </tr>\n",
       "    <tr>\n",
       "      <th>96</th>\n",
       "      <td>7.770997e-03</td>\n",
       "      <td>1.091480e-08</td>\n",
       "      <td>6.669653e-09</td>\n",
       "      <td>2.185351e-08</td>\n",
       "      <td>3.924972e-06</td>\n",
       "      <td>5.750920e-01</td>\n",
       "      <td>2.961157e-18</td>\n",
       "      <td>1.116376e-01</td>\n",
       "      <td>8.807055e-20</td>\n",
       "      <td>3.385947e-24</td>\n",
       "      <td>...</td>\n",
       "      <td>7.387480e-09</td>\n",
       "      <td>7.050791e-06</td>\n",
       "      <td>2.661821e-06</td>\n",
       "      <td>8.158685e-08</td>\n",
       "      <td>1.142934e-05</td>\n",
       "      <td>5.809239e-07</td>\n",
       "      <td>1.000000e+00</td>\n",
       "      <td>7.381228e-07</td>\n",
       "      <td>7.816880e-01</td>\n",
       "      <td>9.402230e-01</td>\n",
       "    </tr>\n",
       "    <tr>\n",
       "      <th>97</th>\n",
       "      <td>1.895429e-13</td>\n",
       "      <td>2.957125e-09</td>\n",
       "      <td>1.668144e-12</td>\n",
       "      <td>2.661821e-06</td>\n",
       "      <td>2.105876e-02</td>\n",
       "      <td>5.523384e-05</td>\n",
       "      <td>2.260277e-24</td>\n",
       "      <td>3.600537e-11</td>\n",
       "      <td>1.633978e-24</td>\n",
       "      <td>1.740464e-23</td>\n",
       "      <td>...</td>\n",
       "      <td>1.123482e-11</td>\n",
       "      <td>2.140032e-04</td>\n",
       "      <td>7.797128e-18</td>\n",
       "      <td>7.770997e-03</td>\n",
       "      <td>4.766816e-10</td>\n",
       "      <td>9.402230e-01</td>\n",
       "      <td>7.381228e-07</td>\n",
       "      <td>1.000000e+00</td>\n",
       "      <td>1.398612e-05</td>\n",
       "      <td>3.312441e-06</td>\n",
       "    </tr>\n",
       "    <tr>\n",
       "      <th>98</th>\n",
       "      <td>7.796845e-04</td>\n",
       "      <td>2.741441e-07</td>\n",
       "      <td>9.074953e-08</td>\n",
       "      <td>8.171875e-07</td>\n",
       "      <td>1.558251e-05</td>\n",
       "      <td>9.402230e-01</td>\n",
       "      <td>8.807055e-20</td>\n",
       "      <td>2.105876e-02</td>\n",
       "      <td>3.289670e-21</td>\n",
       "      <td>4.158133e-25</td>\n",
       "      <td>...</td>\n",
       "      <td>1.193137e-07</td>\n",
       "      <td>1.081474e-05</td>\n",
       "      <td>9.942609e-08</td>\n",
       "      <td>3.513265e-06</td>\n",
       "      <td>2.533904e-06</td>\n",
       "      <td>1.275553e-05</td>\n",
       "      <td>7.816880e-01</td>\n",
       "      <td>1.398612e-05</td>\n",
       "      <td>1.000000e+00</td>\n",
       "      <td>9.402230e-01</td>\n",
       "    </tr>\n",
       "    <tr>\n",
       "      <th>99</th>\n",
       "      <td>2.586134e-03</td>\n",
       "      <td>6.050617e-08</td>\n",
       "      <td>2.755046e-08</td>\n",
       "      <td>1.457013e-07</td>\n",
       "      <td>7.913155e-06</td>\n",
       "      <td>7.816880e-01</td>\n",
       "      <td>4.980929e-19</td>\n",
       "      <td>5.125542e-02</td>\n",
       "      <td>1.648597e-20</td>\n",
       "      <td>1.126820e-24</td>\n",
       "      <td>...</td>\n",
       "      <td>3.315246e-08</td>\n",
       "      <td>8.800415e-06</td>\n",
       "      <td>5.311492e-07</td>\n",
       "      <td>5.701913e-07</td>\n",
       "      <td>5.445257e-06</td>\n",
       "      <td>2.815265e-06</td>\n",
       "      <td>9.402230e-01</td>\n",
       "      <td>3.312441e-06</td>\n",
       "      <td>9.402230e-01</td>\n",
       "      <td>1.000000e+00</td>\n",
       "    </tr>\n",
       "  </tbody>\n",
       "</table>\n",
       "<p>100 rows × 100 columns</p>\n",
       "</div>"
      ],
      "text/plain": [
       "              0             1             2             3             4   \\\n",
       "0   1.000000e+00  1.031856e-18  2.495821e-18  1.561835e-18  4.066387e-09   \n",
       "1   1.031856e-18  1.000000e+00  3.748782e-01  3.748782e-01  7.794081e-16   \n",
       "2   2.495821e-18  3.748782e-01  1.000000e+00  2.105876e-02  4.980929e-19   \n",
       "3   1.561835e-18  3.748782e-01  2.105876e-02  1.000000e+00  1.668144e-12   \n",
       "4   4.066387e-09  7.794081e-16  4.980929e-19  1.668144e-12  1.000000e+00   \n",
       "..           ...           ...           ...           ...           ...   \n",
       "95  5.961850e-14  1.758007e-08  1.123482e-11  1.243114e-05  7.770997e-03   \n",
       "96  7.770997e-03  1.091480e-08  6.669653e-09  2.185351e-08  3.924972e-06   \n",
       "97  1.895429e-13  2.957125e-09  1.668144e-12  2.661821e-06  2.105876e-02   \n",
       "98  7.796845e-04  2.741441e-07  9.074953e-08  8.171875e-07  1.558251e-05   \n",
       "99  2.586134e-03  6.050617e-08  2.755046e-08  1.457013e-07  7.913155e-06   \n",
       "\n",
       "              5             6             7             8             9   ...  \\\n",
       "0   2.140032e-04  7.419147e-11  5.750920e-01  1.668144e-12  2.961157e-18  ...   \n",
       "1   1.008920e-06  6.964401e-48  8.516571e-15  1.170499e-49  4.317952e-53  ...   \n",
       "2   2.372041e-07  5.511021e-50  1.706185e-14  3.528632e-52  4.349163e-57  ...   \n",
       "3   3.828411e-06  1.868683e-44  1.067697e-14  8.377856e-46  7.616416e-48  ...   \n",
       "4   2.988754e-05  1.347697e-13  4.210923e-08  1.330002e-13  5.958148e-13  ...   \n",
       "..           ...           ...           ...           ...           ...  ...   \n",
       "95  5.369829e-05  7.699891e-26  1.594826e-11  5.001891e-26  4.647620e-25  ...   \n",
       "96  5.750920e-01  2.961157e-18  1.116376e-01  8.807055e-20  3.385947e-24  ...   \n",
       "97  5.523384e-05  2.260277e-24  3.600537e-11  1.633978e-24  1.740464e-23  ...   \n",
       "98  9.402230e-01  8.807055e-20  2.105876e-02  3.289670e-21  4.158133e-25  ...   \n",
       "99  7.816880e-01  4.980929e-19  5.125542e-02  1.648597e-20  1.126820e-24  ...   \n",
       "\n",
       "              90            91            92            93            94  \\\n",
       "0   1.775111e-18  5.636929e-07  1.116376e-01  3.053025e-17  1.974927e-03   \n",
       "1   5.750920e-01  4.980929e-19  1.484988e-27  2.586134e-03  3.385947e-24   \n",
       "2   9.402230e-01  7.044013e-22  2.249027e-27  1.243114e-05  7.843692e-26   \n",
       "3   5.125542e-02  7.794081e-16  7.369070e-27  1.116376e-01  7.044013e-22   \n",
       "4   2.961157e-18  3.748782e-01  5.056131e-11  9.942609e-08  2.140032e-04   \n",
       "..           ...           ...           ...           ...           ...   \n",
       "95  7.419147e-11  5.376041e-05  1.179713e-18  2.105876e-02  7.419147e-11   \n",
       "96  7.387480e-09  7.050791e-06  2.661821e-06  8.158685e-08  1.142934e-05   \n",
       "97  1.123482e-11  2.140032e-04  7.797128e-18  7.770997e-03  4.766816e-10   \n",
       "98  1.193137e-07  1.081474e-05  9.942609e-08  3.513265e-06  2.533904e-06   \n",
       "99  3.315246e-08  8.800415e-06  5.311492e-07  5.701913e-07  5.445257e-06   \n",
       "\n",
       "              95            96            97            98            99  \n",
       "0   5.961850e-14  7.770997e-03  1.895429e-13  7.796845e-04  2.586134e-03  \n",
       "1   1.758007e-08  1.091480e-08  2.957125e-09  2.741441e-07  6.050617e-08  \n",
       "2   1.123482e-11  6.669653e-09  1.668144e-12  9.074953e-08  2.755046e-08  \n",
       "3   1.243114e-05  2.185351e-08  2.661821e-06  8.171875e-07  1.457013e-07  \n",
       "4   7.770997e-03  3.924972e-06  2.105876e-02  1.558251e-05  7.913155e-06  \n",
       "..           ...           ...           ...           ...           ...  \n",
       "95  1.000000e+00  5.809239e-07  9.402230e-01  1.275553e-05  2.815265e-06  \n",
       "96  5.809239e-07  1.000000e+00  7.381228e-07  7.816880e-01  9.402230e-01  \n",
       "97  9.402230e-01  7.381228e-07  1.000000e+00  1.398612e-05  3.312441e-06  \n",
       "98  1.275553e-05  7.816880e-01  1.398612e-05  1.000000e+00  9.402230e-01  \n",
       "99  2.815265e-06  9.402230e-01  3.312441e-06  9.402230e-01  1.000000e+00  \n",
       "\n",
       "[100 rows x 100 columns]"
      ]
     },
     "execution_count": 115,
     "metadata": {},
     "output_type": "execute_result"
    }
   ],
   "source": [
    "#exp matrix \n",
    "pd.DataFrame(RBF_mat)"
   ]
  },
  {
   "cell_type": "code",
   "execution_count": 116,
   "metadata": {
    "scrolled": true
   },
   "outputs": [],
   "source": [
    "#before finding the eigon decomposition centering the data using the following formula : K′=K−1N.K−K.1N+1N.K.1N\n",
    "#1N = 1/N = in our case N = 100\n",
    "N = 100 \n",
    "N_1 = np.ones((N,N))/N\n",
    "Final_mat = RBF_mat - N_1.dot(RBF_mat) - RBF_mat.dot(N_1) + N_1.dot(RBF_mat).dot(N_1)"
   ]
  },
  {
   "cell_type": "code",
   "execution_count": 117,
   "metadata": {},
   "outputs": [],
   "source": [
    "#finding the eigenvalues and eigenvectors\n",
    "eig_val,eig_vec =  np.linalg.eigh(Final_mat)"
   ]
  },
  {
   "cell_type": "code",
   "execution_count": null,
   "metadata": {},
   "outputs": [],
   "source": []
  },
  {
   "cell_type": "code",
   "execution_count": 111,
   "metadata": {},
   "outputs": [
    {
     "data": {
      "text/plain": [
       "(100,)"
      ]
     },
     "execution_count": 111,
     "metadata": {},
     "output_type": "execute_result"
    }
   ],
   "source": [
    "Y_.shape"
   ]
  },
  {
   "cell_type": "code",
   "execution_count": 125,
   "metadata": {},
   "outputs": [],
   "source": [
    "output = eig_vec[:,-2:]"
   ]
  },
  {
   "cell_type": "code",
   "execution_count": 129,
   "metadata": {},
   "outputs": [
    {
     "data": {
      "text/plain": [
       "<matplotlib.collections.PathCollection at 0x1fb06d77160>"
      ]
     },
     "execution_count": 129,
     "metadata": {},
     "output_type": "execute_result"
    },
    {
     "data": {
      "image/png": "[encoded data removed]",
      "text/plain": [
       "<Figure size 432x288 with 1 Axes>"
      ]
     },
     "metadata": {
      "needs_background": "light"
     },
     "output_type": "display_data"
    }
   ],
   "source": [
    "plt.scatter(output[Y_==0,1],output[Y_==0,0])\n",
    "plt.scatter(output[Y_==1,1],output[Y_==1,0])  #our RBF"
   ]
  },
  {
   "cell_type": "markdown",
   "metadata": {},
   "source": [
    "# sklearn's RBF kernal PCA"
   ]
  },
  {
   "cell_type": "code",
   "execution_count": 121,
   "metadata": {},
   "outputs": [],
   "source": [
    "from sklearn.decomposition import KernelPCA\n",
    "\n",
    "kpca = KernelPCA(n_components=2, kernel='rbf', gamma=15)\n",
    "Xkpca = kpca.fit_transform(X_)"
   ]
  },
  {
   "cell_type": "code",
   "execution_count": 122,
   "metadata": {},
   "outputs": [
    {
     "data": {
      "text/plain": [
       "<matplotlib.collections.PathCollection at 0x1fb06cd3eb0>"
      ]
     },
     "execution_count": 122,
     "metadata": {},
     "output_type": "execute_result"
    },
    {
     "data": {
      "image/png": "[encoded data removed]",
      "text/plain": [
       "<Figure size 432x288 with 1 Axes>"
      ]
     },
     "metadata": {
      "needs_background": "light"
     },
     "output_type": "display_data"
    }
   ],
   "source": [
    "plt.scatter(Xkpca[Y_==0,0],Xkpca[Y_==0,1])\n",
    "plt.scatter(Xkpca[Y_==1,0],Xkpca[Y_==1,1])"
   ]
  },
  {
   "cell_type": "code",
   "execution_count": null,
   "metadata": {},
   "outputs": [],
   "source": []
  },
  {
   "cell_type": "code",
   "execution_count": null,
   "metadata": {},
   "outputs": [],
   "source": []
  }
 ],
 "metadata": {
  "kernelspec": {
   "display_name": "Python 3",
   "language": "python",
   "name": "python3"
  },
  "language_info": {
   "codemirror_mode": {
    "name": "ipython",
    "version": 3
   },
   "file_extension": ".py",
   "mimetype": "text/x-python",
   "name": "python",
   "nbconvert_exporter": "python",
   "pygments_lexer": "ipython3",
   "version": "3.8.0"
  }
 },
 "nbformat": 4,
 "nbformat_minor": 4
}
